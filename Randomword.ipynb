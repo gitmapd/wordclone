{
 "cells": [
  {
   "cell_type": "code",
   "execution_count": 2,
   "id": "59ae6e0a",
   "metadata": {},
   "outputs": [],
   "source": [
    "import random\n",
    "\n"
   ]
  },
  {
   "cell_type": "code",
   "execution_count": 3,
   "id": "993dae54",
   "metadata": {},
   "outputs": [
    {
     "name": "stdout",
     "output_type": "stream",
     "text": [
      "shout\n"
     ]
    }
   ],
   "source": [
    "f=open(\"sgb-words.txt\",\"r\")\n",
    "file=f.read()\n",
    "words=list(map(str,file.split()))\n",
    "print(random.choice(words))"
   ]
  },
  {
   "cell_type": "code",
   "execution_count": 4,
   "id": "edca2e47",
   "metadata": {},
   "outputs": [],
   "source": [
    "import re"
   ]
  },
  {
   "cell_type": "code",
   "execution_count": 5,
   "id": "f3a34a51",
   "metadata": {},
   "outputs": [],
   "source": [
    "r=re.compile(\"ju\")\n",
    "ff=list(filter(r.match,words))"
   ]
  },
  {
   "cell_type": "code",
   "execution_count": 6,
   "id": "7494566c",
   "metadata": {},
   "outputs": [
    {
     "name": "stdout",
     "output_type": "stream",
     "text": [
      "judge\n",
      "juice\n",
      "jumps\n",
      "juicy\n",
      "jumpy\n",
      "junks\n",
      "juror\n",
      "jumbo\n",
      "junky\n",
      "jutes\n",
      "judos\n",
      "junta\n",
      "julep\n",
      "juste\n",
      "junco\n",
      "jujus\n",
      "jukes\n"
     ]
    }
   ],
   "source": [
    "for i in ff:\n",
    "    print(i)"
   ]
  },
  {
   "cell_type": "code",
   "execution_count": 22,
   "id": "9179d5e4",
   "metadata": {},
   "outputs": [],
   "source": [
    "rand_pos=random.randint(0,len(words)-1)"
   ]
  },
  {
   "cell_type": "code",
   "execution_count": 23,
   "id": "b9805457",
   "metadata": {},
   "outputs": [],
   "source": [
    "Wordpos=f\"The word in position {rand_pos} is {words[rand_pos]}\""
   ]
  },
  {
   "cell_type": "code",
   "execution_count": 24,
   "id": "f20721ef",
   "metadata": {},
   "outputs": [
    {
     "name": "stdout",
     "output_type": "stream",
     "text": [
      "The word in position 799 is burns\n"
     ]
    }
   ],
   "source": [
    "print(Wordpos)"
   ]
  },
  {
   "cell_type": "code",
   "execution_count": null,
   "id": "bae2b995",
   "metadata": {},
   "outputs": [],
   "source": []
  }
 ],
 "metadata": {
  "kernelspec": {
   "display_name": "Python 3 (ipykernel)",
   "language": "python",
   "name": "python3"
  },
  "language_info": {
   "codemirror_mode": {
    "name": "ipython",
    "version": 3
   },
   "file_extension": ".py",
   "mimetype": "text/x-python",
   "name": "python",
   "nbconvert_exporter": "python",
   "pygments_lexer": "ipython3",
   "version": "3.9.7"
  }
 },
 "nbformat": 4,
 "nbformat_minor": 5
}
